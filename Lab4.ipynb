{
 "cells": [
  {
   "cell_type": "markdown",
   "metadata": {},
   "source": [
    "## **TITLE: LINEAR ALGEBRA**"
   ]
  },
  {
   "cell_type": "markdown",
   "metadata": {},
   "source": [
    "### 1. Matrix Operation\n",
    "Perform the following operations on the given matrices:\n",
    "A=[[2    -1], [​0    3​]]\n",
    "B=[[1   ​ 2], [-3      4​]]<br>\n",
    "a. A+B<br>\n",
    "b. AB<br>\n",
    "c. 3A−2B"
   ]
  },
  {
   "cell_type": "code",
   "execution_count": 39,
   "metadata": {},
   "outputs": [],
   "source": [
    "import numpy as np\n",
    "import numpy.linalg as la\n",
    "\n",
    "# Define two matrices\n",
    "A = np.array([[2, -1],[0, 3]])\n",
    "B = np.array([[1, 2],[-3, 4]])"
   ]
  },
  {
   "cell_type": "code",
   "execution_count": 40,
   "metadata": {},
   "outputs": [
    {
     "name": "stdout",
     "output_type": "stream",
     "text": [
      "The addition between matix A and matrix B:\n",
      "[[ 3  1]\n",
      " [-3  7]]\n",
      "Dot product between matrices using 'np.dot':\n",
      "[[ 5  0]\n",
      " [-9 12]]\n",
      "Dot product between matrices using '@' operator:\n",
      "[[ 5  0]\n",
      " [-9 12]]\n",
      "The substraction '3A - 2B':\n",
      "[[ 4 -7]\n",
      " [ 6  1]]\n"
     ]
    }
   ],
   "source": [
    "# Compute addition between two matrices\n",
    "print(\"The addition between matix A and matrix B:\")\n",
    "print(A + B)\n",
    "\n",
    "# Compute the dot product using 'np.dot'\n",
    "print(\"Dot product between matrices using 'np.dot':\")\n",
    "print(np.dot(A, B))\n",
    "\n",
    "# Compute the dot product using @ operator\n",
    "print(\"Dot product between matrices using '@' operator:\")\n",
    "print(A @ B)\n",
    "\n",
    "# Compute '3A - 2B'\n",
    "print(\"The substraction '3A - 2B':\")\n",
    "print((3 * A) - (2 * B ))\n"
   ]
  },
  {
   "cell_type": "markdown",
   "metadata": {},
   "source": [
    "### 2. Determinants and Inverses  \n",
    "Find the determinant of A.\n",
    "Determine whether A is invertible. If yes, calculate A^-1."
   ]
  },
  {
   "cell_type": "code",
   "execution_count": 41,
   "metadata": {},
   "outputs": [
    {
     "name": "stdout",
     "output_type": "stream",
     "text": [
      "The determinant of A is: 6.0\n",
      "The matrix is invertible (determinant != 0).\n",
      "The inverse of A is:\n",
      "[[0.5        0.16666667]\n",
      " [0.         0.33333333]]\n"
     ]
    }
   ],
   "source": [
    "# Computing determinant and inverse of matrix_a\n",
    "deter_A = la.det(A)\n",
    "inverse_A = la.inv(A)\n",
    "print(\"The determinant of A is:\",deter_A)\n",
    "\n",
    "if deter_A != 0:\n",
    "    print(\"The matrix is invertible (determinant != 0).\")\n",
    "    print(\"The inverse of A is:\")\n",
    "    print(inverse_A)\n",
    "\n",
    "else:\n",
    "    print(\"The matrix is not invertible.\")\n"
   ]
  },
  {
   "cell_type": "markdown",
   "metadata": {},
   "source": [
    "### 3. Eigenvalues and Eigenvectors  \n",
    "Compute the eigenvalues and eigenvectors of the matrix:\n",
    "C=[[4    1], [​−2       1]​]"
   ]
  },
  {
   "cell_type": "code",
   "execution_count": 42,
   "metadata": {},
   "outputs": [
    {
     "name": "stdout",
     "output_type": "stream",
     "text": [
      "Marix C:\n",
      "[[ 4  1]\n",
      " [-2  1]]\n",
      "Eigenvalue: [3. 2.]\n",
      "Corresponding Eigenvector:\n",
      " [[ 0.70710678 -0.4472136 ]\n",
      " [-0.70710678  0.89442719]]\n"
     ]
    }
   ],
   "source": [
    "# Defining the matrix\n",
    "C = np.array([[4, 1], [-2, 1]])\n",
    "\n",
    "# Compute Eigenvalues and Eigenvectors\n",
    "eigenvalues, eigenvectors = la.eig(C)\n",
    "\n",
    "# Print the result\n",
    "print(\"Marix C:\")\n",
    "print(C)\n",
    "print(\"Eigenvalue:\", eigenvalues)\n",
    "print(\"Corresponding Eigenvector:\\n\", eigenvectors)"
   ]
  },
  {
   "cell_type": "markdown",
   "metadata": {},
   "source": [
    "### 4. You are given a dataset of cars with the following features:Number of cylinders (x1​)Engine size in liters (x2​)Horsepower (x3)\n",
    "car 1:<br>\n",
    "x1: 4<br>\n",
    "x2:  1.5<br>\n",
    "x3: 100<br>\n",
    "and price: 20<br>\n",
    "\n",
    "car 2:<br>\n",
    "x1: 6<br>\n",
    "x2:  2.0<br>\n",
    "x3: 150<br>\n",
    "and price: 30<br>\n",
    "\n",
    "Then, find the price of a car 3 with features<br>\n",
    "x1: 8<br>\n",
    "x2:  3.0<br>\n",
    "x3: 200<br>\n",
    "price:?<br>\n"
   ]
  },
  {
   "cell_type": "code",
   "execution_count": 43,
   "metadata": {},
   "outputs": [
    {
     "name": "stdout",
     "output_type": "stream",
     "text": [
      "The price of car 3 is  40.00000000000006\n"
     ]
    }
   ],
   "source": [
    "# Given data\n",
    "X = np.array([[4, 1.5, 100],\n",
    "              [6, 2.0, 150]])  # Features for Car 1 and Car 2\n",
    "\n",
    "Y = np.array([20, 30])  # Prices for Car 1 and Car 2\n",
    "beta = la.pinv(X) @ Y #using psudoinv for numerical stability\n",
    "car3 = np.array([8, 3.0, 200]) #dataset for car3\n",
    "car3_price = car3 @ beta #predicting price of car3 by doing dot product of car3 and beta\n",
    "print(\"The price of car 3 is \", car3_price)\n"
   ]
  }
 ],
 "metadata": {
  "kernelspec": {
   "display_name": "Python 3",
   "language": "python",
   "name": "python3"
  },
  "language_info": {
   "codemirror_mode": {
    "name": "ipython",
    "version": 3
   },
   "file_extension": ".py",
   "mimetype": "text/x-python",
   "name": "python",
   "nbconvert_exporter": "python",
   "pygments_lexer": "ipython3",
   "version": "3.12.4"
  }
 },
 "nbformat": 4,
 "nbformat_minor": 2
}
