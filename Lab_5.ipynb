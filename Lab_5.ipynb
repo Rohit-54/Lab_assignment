{
 "cells": [
  {
   "cell_type": "markdown",
   "metadata": {},
   "source": [
    "DATA SCIENCE\n"
   ]
  },
  {
   "cell_type": "markdown",
   "metadata": {},
   "source": [
    "Probability and Statistics :\n"
   ]
  },
  {
   "cell_type": "markdown",
   "metadata": {},
   "source": [
    "Proability "
   ]
  },
  {
   "cell_type": "markdown",
   "metadata": {},
   "source": [
    "The probability of an event represents the frequency, or chance, that the events will happen.\n",
    "\n",
    "For notation, if A is an event, P(A) is the probability of the occurance of the event.\n",
    "We can define the actual probability of an event, A, as follows:\n",
    "\n",
    "            P(A) = number of ways \"A\" occurs\n",
    "                   -------------------------\n",
    "                     size of sample space\n",
    ".\n",
    "Example 1: A six-sided die has numbers 1 through 6. The probability of rolling a 3 is:\n",
    "                    P(rolling 3) = 1/6\n"
   ]
  },
  {
   "cell_type": "code",
   "execution_count": 2,
   "metadata": {},
   "outputs": [
    {
     "name": "stdout",
     "output_type": "stream",
     "text": [
      "The probability of rolling a 3 is: 0.16666666666666666\n"
     ]
    }
   ],
   "source": [
    "# sample example in the code \n",
    "# Total number of outcomes\n",
    "total_outcomes = 6\n",
    "\n",
    "# Number of favorable outcomes (rolling a 3)\n",
    "favorable_outcomes = 1\n",
    "\n",
    "# Probability of rolling a 3\n",
    "probability = favorable_outcomes / total_outcomes\n",
    "print(f\"The probability of rolling a 3 is: {probability}\")"
   ]
  },
  {
   "cell_type": "markdown",
   "metadata": {},
   "source": [
    "Bayesian versus Frequentist"
   ]
  },
  {
   "cell_type": "markdown",
   "metadata": {},
   "source": [
    "Example: If we want to take the probability of a random person smoking cigarettes at least once a day.\n",
    "we can do it in two different way using classic way (Frequentist), we would need to figure out how many different ways a person is a smoker - someone who smoke at least once a day - which is not possible!, So we have to use bayesian approach\n",
    "\n"
   ]
  },
  {
   "cell_type": "markdown",
   "metadata": {},
   "source": [
    "Frequentist Approach"
   ]
  },
  {
   "cell_type": "markdown",
   "metadata": {},
   "source": [
    "The porbability of an event is calculated through experimentation.\n",
    "\n",
    "P(A) =          number of time occured\n",
    "         ----------------------------------------\n",
    "          no.of times the procedure was repeated\n",
    "\n",
    "The main idea for this approach is relative frequency - an event is how often an event occurs divided by the total number of observations.          "
   ]
  },
  {
   "cell_type": "code",
   "execution_count": 3,
   "metadata": {},
   "outputs": [
    {
     "name": "stdout",
     "output_type": "stream",
     "text": [
      "31.001371742112482 % of yours visitors are repeated visitors\n"
     ]
    }
   ],
   "source": [
    "# Question: we have to calculate the number of way person can come back, which doesnot really make sense at all!! So we have to use approach of Bayesian \n",
    "# Let say 1458 unique visitors in pask week 452 were repeat visitor.\n",
    "\n",
    "total_visitors = 1458\n",
    "\n",
    "# Number of repeat visitors\n",
    "repeated_visitor = 452\n",
    "\n",
    "# Probability of repeated visitor\n",
    "probability = repeated_visitor / total_visitors\n",
    "print(f\"{probability*100} % of yours visitors are repeated visitors\")"
   ]
  },
  {
   "cell_type": "markdown",
   "metadata": {},
   "source": [
    "The Law of Large Number"
   ]
  },
  {
   "cell_type": "markdown",
   "metadata": {},
   "source": [
    "To get the actual probability, Frequentist approach can reach that point, using law of large number which state that if we repeat a procedures over and over\n"
   ]
  },
  {
   "cell_type": "markdown",
   "metadata": {},
   "source": [
    "Question:"
   ]
  },
  {
   "cell_type": "markdown",
   "metadata": {},
   "source": [
    "Choose n random numbers between 1 and 10 and find the average\n",
    "1. Pick a number between 1 and 10 find average\n",
    "2. Pick two number between 1 and 10 find average\n",
    "3. Pick three number between 1 and 10 find average\n",
    "4. Pick 10,000 number between 1 and 10 find average\n",
    "5. Graph the results"
   ]
  },
  {
   "cell_type": "code",
   "execution_count": 4,
   "metadata": {},
   "outputs": [
    {
     "name": "stdout",
     "output_type": "stream",
     "text": [
      "when small number of data\n",
      "    means\n",
      "0   7.00\n",
      "1   1.00\n",
      "2   2.00\n",
      "3   4.75\n",
      "4   5.20\n",
      "when we increase data\n",
      "          means\n",
      "9994  5.052026\n",
      "9995  5.015306\n",
      "9996  4.945184\n",
      "9997  5.030706\n",
      "9998  4.965797\n"
     ]
    }
   ],
   "source": [
    "# answer\n",
    "import numpy as np\n",
    "import pandas as pd\n",
    "from matplotlib import pyplot as plt\n",
    "\n",
    "%matplotlib inline\n",
    "\n",
    "\n",
    "results = []\n",
    "\n",
    "for n in range(1, 10000):\n",
    "    nums = np.random.randint(low=1, high=10, size=n)\n",
    "    mean = nums.mean()\n",
    "    results.append(mean)\n",
    "\n",
    "df = pd.DataFrame({'means': results})\n",
    "print(\"when small number of data\\n\",df.head())\n",
    "print(\"when we increase data\\n\",df.tail())"
   ]
  },
  {
   "cell_type": "code",
   "execution_count": 5,
   "metadata": {},
   "outputs": [
    {
     "data": {
      "text/plain": [
       "Text(0, 0.5, 'Average of sample')"
      ]
     },
     "execution_count": 5,
     "metadata": {},
     "output_type": "execute_result"
    },
    {
     "data": {
      "image/png": "[encoded data removed]",
      "text/plain": [
       "<Figure size 640x480 with 1 Axes>"
      ]
     },
     "metadata": {},
     "output_type": "display_data"
    }
   ],
   "source": [
    "df.plot(title=\"Law of Large Number\")\n",
    "plt.xlabel(\"Number of throws in sample\")\n",
    "plt.ylabel(\"Average of sample\")"
   ]
  },
  {
   "cell_type": "markdown",
   "metadata": {},
   "source": [
    "Compound Events"
   ]
  },
  {
   "cell_type": "markdown",
   "metadata": {},
   "source": [
    "A compound event is any event that combines two or more simple events.\n",
    "Notation:\n",
    "Given events A and B:\n",
    "1. The probability that A and B occur is \n",
    "2. The probability that either A or B occurs is \n",
    "\n"
   ]
  },
  {
   "cell_type": "code",
   "execution_count": 6,
   "metadata": {},
   "outputs": [
    {
     "name": "stdout",
     "output_type": "stream",
     "text": [
      "Probability of liking both Banana and Mango (P(B AND M)): 0.28\n",
      "Probability of liking Banana or Mango (P(B OR M)): 0.84\n"
     ]
    }
   ],
   "source": [
    "# A group of 100 observations, and each observation corresponds to whether a person likes banana and/or mango. We'll model the events as follows:\n",
    "\n",
    "# Banana (B): Whether a person likes banana.\n",
    "# Mango (M): Whether a person likes mango.\n",
    "# We will calculate:\n",
    "\n",
    "# P(B): Probability that a person likes banana.\n",
    "# P(M): Probability that a person likes mango.\n",
    "# P(B AND M): Probability that a person likes both banana and mango.\n",
    "# P(B OR M): Probability that a person likes either banana, mango, or both.\n",
    "\n",
    "\n",
    "import pandas as pd\n",
    "import numpy as np\n",
    "\n",
    "# Simulating a dataset of 100 people\n",
    "np.random.seed(42)\n",
    "\n",
    "# Assume 60% like bananas, 50% like mangoes\n",
    "# We'll create random data for the two events: 'Banana' and 'Mango'\n",
    "data = {\n",
    "    'Banana': np.random.choice([True, False], size=100, p=[0.6, 0.4]),  # 60% like banana\n",
    "    'Mango': np.random.choice([True, False], size=100, p=[0.5, 0.5])   # 50% like mango\n",
    "}\n",
    "\n",
    "# Creating a DataFrame\n",
    "df = pd.DataFrame(data)\n",
    "\n",
    "# View the first few rows of the dataset\n",
    "df.head()\n",
    "\n",
    "# Count the number of occurrences for each combination of events\n",
    "P_banana_and_mango = len(df[(df['Banana'] == True) & (df['Mango'] == True)]) / len(df)  # Both banana and mango\n",
    "P_banana_or_mango = len(df[(df['Banana'] == True) | (df['Mango'] == True)]) / len(df)  # Either banana or mango\n",
    "\n",
    "# Print results\n",
    "\n",
    "print(f\"Probability of liking both Banana and Mango (P(B AND M)): {P_banana_and_mango:.2f}\")\n",
    "print(f\"Probability of liking Banana or Mango (P(B OR M)): {P_banana_or_mango:.2f}\")"
   ]
  },
  {
   "cell_type": "code",
   "execution_count": 8,
   "metadata": {},
   "outputs": [
    {
     "name": "stdout",
     "output_type": "stream",
     "text": [
      "Sample Space: ['HH', 'HT', 'TH', 'TT']\n",
      "Event A (First toss is a Head): ['HH', 'HT']\n",
      "Event B (Second toss is a Tail): ['HT', 'TT']\n",
      "Event A ∩ B (First toss is a Head and second toss is a Tail): ['HT']\n"
     ]
    }
   ],
   "source": [
    "# Define the sample space for two coin tosses\n",
    "sample_space = ['HH', 'HT', 'TH', 'TT']\n",
    "\n",
    "# Define the events:\n",
    "# Event A: First toss is a Head\n",
    "event_A = [outcome for outcome in sample_space if outcome[0] == 'H']\n",
    "\n",
    "# Event B: Second toss is a Tail\n",
    "event_B = [outcome for outcome in sample_space if outcome[1] == 'T']\n",
    "\n",
    "# Event A ∩ B: First toss is a Head AND second toss is a Tail\n",
    "event_A_and_B = [outcome for outcome in sample_space if outcome[0] == 'H' and outcome[1] == 'T']\n",
    "\n",
    "# Print the events\n",
    "print(\"Sample Space:\", sample_space)\n",
    "print(\"Event A (First toss is a Head):\", event_A)\n",
    "print(\"Event B (Second toss is a Tail):\", event_B)\n",
    "print(\"Event A ∩ B (First toss is a Head and second toss is a Tail):\", event_A_and_B)"
   ]
  },
  {
   "cell_type": "code",
   "execution_count": 9,
   "metadata": {},
   "outputs": [
    {
     "name": "stdout",
     "output_type": "stream",
     "text": [
      "Conditional Probability P(A|B) = 0.50\n"
     ]
    }
   ],
   "source": [
    "# Calculate P(A ∩ B) and P(B)\n",
    "P_A_and_B = len(event_A_and_B) / len(sample_space)\n",
    "P_B = len(event_B) / len(sample_space)\n",
    "\n",
    "# Conditional Probability P(A|B)\n",
    "P_A_given_B = P_A_and_B / P_B\n",
    "\n",
    "# Print the result\n",
    "print(f\"Conditional Probability P(A|B) = {P_A_given_B:.2f}\")"
   ]
  },
  {
   "cell_type": "code",
   "execution_count": 10,
   "metadata": {},
   "outputs": [
    {
     "name": "stdout",
     "output_type": "stream",
     "text": [
      "The probability of drawing an Ace followed by a King is: 0.0060\n"
     ]
    }
   ],
   "source": [
    "# The multiplication Law \n",
    "\n",
    "# Question: The scenario involves drawing two cards from a standard deck of 52 cards without replacement.\n",
    "#  We'll calculate the probability of drawing an Ace followed by a King.\n",
    "\n",
    "# Total number of cards in the deck\n",
    "total_cards = 52\n",
    "\n",
    "# Number of Aces in the deck\n",
    "aces = 4\n",
    "\n",
    "# Number of Kings in the deck\n",
    "kings = 4\n",
    "\n",
    "# Probability of drawing an Ace first\n",
    "prob_ace = aces / total_cards\n",
    "\n",
    "# After drawing an Ace, the total cards reduce by 1, and the Kings remain the same\n",
    "prob_king_given_ace = kings / (total_cards - 1)\n",
    "\n",
    "# Using the multiplication rule for dependent events\n",
    "prob_ace_and_king = prob_ace * prob_king_given_ace\n",
    "\n",
    "# Print the result\n",
    "print(f\"The probability of drawing an Ace followed by a King is: {prob_ace_and_king:.4f}\")"
   ]
  },
  {
   "cell_type": "code",
   "execution_count": 12,
   "metadata": {},
   "outputs": [
    {
     "name": "stdout",
     "output_type": "stream",
     "text": [
      "Probability of surviving given that the passenger is female: 0.7420\n"
     ]
    }
   ],
   "source": [
    "import pandas as pd\n",
    "\n",
    "# Load the Titanic dataset\n",
    "titanic = pd.read_csv('./titanic.csv')\n",
    "\n",
    "# Select relevant columns\n",
    "titanic = titanic[['Sex', 'Survived']]\n",
    "\n",
    "# Total number of passengers\n",
    "total_passengers = len(titanic)\n",
    "\n",
    "# Calculate P(F): Probability of being female\n",
    "female_count = len(titanic[titanic['Sex'] == 'female'])\n",
    "p_female = female_count / total_passengers\n",
    "\n",
    "# Calculate P(S): Probability of surviving\n",
    "survived_count = len(titanic[titanic['Survived'] == 1])\n",
    "p_survived = survived_count / total_passengers\n",
    "\n",
    "# Calculate P(F | S): Probability of being female given survival\n",
    "female_survived_count = len(titanic[(titanic['Sex'] == 'female') & (titanic['Survived'] == 1)])\n",
    "p_female_given_survived = female_survived_count / survived_count\n",
    "\n",
    "# Apply Bayes' Theorem: P(S | F)\n",
    "p_survived_given_female = (p_female_given_survived * p_survived) / p_female\n",
    "\n",
    "# Display the result\n",
    "print(f\"Probability of surviving given that the passenger is female: {p_survived_given_female:.4f}\")\n"
   ]
  },
  {
   "cell_type": "code",
   "execution_count": 13,
   "metadata": {},
   "outputs": [],
   "source": [
    "# import matplotlib\n",
    "import matplotlib.pyplot as plt"
   ]
  },
  {
   "cell_type": "code",
   "execution_count": 17,
   "metadata": {},
   "outputs": [
    {
     "name": "stdout",
     "output_type": "stream",
     "text": [
      "[22.84063292 11.6827993  13.23257428 ... 25.2530698  14.02922992\n",
      " 14.68388851]\n"
     ]
    },
    {
     "data": {
      "text/plain": [
       "(1.0, 50.0)"
      ]
     },
     "execution_count": 17,
     "metadata": {},
     "output_type": "execute_result"
    },
    {
     "data": {
      "image/png": "[encoded data removed]",
      "text/plain": [
       "<Figure size 640x480 with 1 Axes>"
      ]
     },
     "metadata": {},
     "output_type": "display_data"
    }
   ],
   "source": [
    "# !pip install scipy\n",
    "# import uniform distribution\n",
    "from scipy.stats import uniform\n",
    "\n",
    "n = 10000\n",
    "a = 10\n",
    "width = 20 # b = 30\n",
    "\n",
    "#rvs stands for random variates, which simply generate random numbers\n",
    "#based on the distribution\n",
    "data_uniform = uniform.rvs(size=n, loc=a, scale=width)\n",
    "\n",
    "print(data_uniform)\n",
    "#plot the data\n",
    "plt.hist(data_uniform, density=True)  ##density=True makes sum=1\n",
    "plt.xlim(1, 50)\n",
    "\n",
    "#notice 1/(b-a) = 0.05\n"
   ]
  },
  {
   "cell_type": "code",
   "execution_count": 18,
   "metadata": {},
   "outputs": [
    {
     "data": {
      "text/plain": [
       "(array([1.42831901e-03, 1.38070837e-02, 7.85575454e-02, 2.43528391e-01,\n",
       "        3.85289052e-01, 3.06255400e-01, 1.32476588e-01, 2.60668219e-02,\n",
       "        2.73761143e-03, 1.19026584e-04]),\n",
       " array([-3.92240025, -3.0822518 , -2.24210335, -1.4019549 , -0.56180645,\n",
       "         0.278342  ,  1.11849045,  1.9586389 ,  2.79878735,  3.6389358 ,\n",
       "         4.47908425]),\n",
       " <BarContainer object of 10 artists>)"
      ]
     },
     "execution_count": 18,
     "metadata": {},
     "output_type": "execute_result"
    },
    {
     "data": {
      "image/png": "[encoded data removed]",
      "text/plain": [
       "<Figure size 640x480 with 1 Axes>"
      ]
     },
     "metadata": {},
     "output_type": "display_data"
    }
   ],
   "source": [
    "from scipy.stats import norm\n",
    "\n",
    "# generate random numbers from mean = 0, std = 1\n",
    "data_normal = norm.rvs(size=10000,loc=0,scale=1)\n",
    "\n",
    "#plot the data\n",
    "plt.hist(data_normal, density=True)  ##density=True makes sum=1"
   ]
  },
  {
   "cell_type": "code",
   "execution_count": 19,
   "metadata": {},
   "outputs": [
    {
     "data": {
      "text/plain": [
       "(array([0.29077647, 0.25488718, 0.12085168, 0.04101633, 0.01831086,\n",
       "        0.00439461, 0.00146487, 0.        , 0.        , 0.00073243]),\n",
       " array([10.04155933, 11.40686927, 12.77217922, 14.13748916, 15.5027991 ,\n",
       "        16.86810905, 18.23341899, 19.59872894, 20.96403888, 22.32934882,\n",
       "        23.69465877]),\n",
       " <BarContainer object of 10 artists>)"
      ]
     },
     "execution_count": 19,
     "metadata": {},
     "output_type": "execute_result"
    },
    {
     "data": {
      "image/png": "[encoded data removed]",
      "text/plain": [
       "<Figure size 640x480 with 1 Axes>"
      ]
     },
     "metadata": {},
     "output_type": "display_data"
    }
   ],
   "source": [
    "from scipy.stats import gamma\n",
    "data_gamma = gamma.rvs(a=2, size=1000, loc=10, scale=1)  #loc simply shift\n",
    "\n",
    "#plot the data\n",
    "plt.hist(data_gamma, density=True)  ##density=True makes sum=1"
   ]
  },
  {
   "cell_type": "code",
   "execution_count": 20,
   "metadata": {},
   "outputs": [
    {
     "data": {
      "text/plain": [
       "(array([0.07700402, 0.03842423, 0.02131222, 0.00933382, 0.00435578,\n",
       "        0.00248902, 0.00108895, 0.00062225, 0.00031113, 0.00062225]),\n",
       " array([1.10237878e-03, 6.42933817e+00, 1.28575740e+01, 1.92858097e+01,\n",
       "        2.57140455e+01, 3.21422813e+01, 3.85705171e+01, 4.49987529e+01,\n",
       "        5.14269887e+01, 5.78552245e+01, 6.42834603e+01]),\n",
       " <BarContainer object of 10 artists>)"
      ]
     },
     "execution_count": 20,
     "metadata": {},
     "output_type": "execute_result"
    },
    {
     "data": {
      "image/png": "[encoded data removed]",
      "text/plain": [
       "<Figure size 640x480 with 1 Axes>"
      ]
     },
     "metadata": {},
     "output_type": "display_data"
    }
   ],
   "source": [
    "from scipy.stats import expon\n",
    "data_expon = expon.rvs(scale=10,loc=0,size=1000)\n",
    "\n",
    "#plot the data\n",
    "plt.hist(data_expon, density=True)  ##density=True makes sum=1"
   ]
  },
  {
   "cell_type": "code",
   "execution_count": 21,
   "metadata": {},
   "outputs": [
    {
     "data": {
      "text/plain": [
       "(array([0.00117391, 0.01152174, 0.04478261, 0.14243478, 0.1036087 ,\n",
       "        0.0736087 , 0.04626087, 0.00904348, 0.00191304, 0.00043478]),\n",
       " array([ 0. ,  2.3,  4.6,  6.9,  9.2, 11.5, 13.8, 16.1, 18.4, 20.7, 23. ]),\n",
       " <BarContainer object of 10 artists>)"
      ]
     },
     "execution_count": 21,
     "metadata": {},
     "output_type": "execute_result"
    },
    {
     "data": {
      "image/png": "[encoded data removed]",
      "text/plain": [
       "<Figure size 640x480 with 1 Axes>"
      ]
     },
     "metadata": {},
     "output_type": "display_data"
    }
   ],
   "source": [
    "from scipy.stats import poisson\n",
    "data_poisson = poisson.rvs(mu=10, size=10000)\n",
    "\n",
    "#plot the data\n",
    "plt.hist(data_poisson, density=True)  ##density=True makes sum=1"
   ]
  },
  {
   "cell_type": "code",
   "execution_count": 22,
   "metadata": {},
   "outputs": [
    {
     "data": {
      "text/plain": [
       "(array([0.00096, 0.00958, 0.0433 , 0.11839, 0.20399, 0.24582, 0.2057 ,\n",
       "        0.11854, 0.0433 , 0.01042]),\n",
       " array([ 0.,  1.,  2.,  3.,  4.,  5.,  6.,  7.,  8.,  9., 10.]),\n",
       " <BarContainer object of 10 artists>)"
      ]
     },
     "execution_count": 22,
     "metadata": {},
     "output_type": "execute_result"
    },
    {
     "data": {
      "image/png": "[encoded data removed]",
      "text/plain": [
       "<Figure size 640x480 with 1 Axes>"
      ]
     },
     "metadata": {},
     "output_type": "display_data"
    }
   ],
   "source": [
    "from scipy.stats import binom\n",
    "data_binom = binom.rvs(n=10,p=0.5,size=100000)\n",
    "\n",
    "#plot the data\n",
    "plt.hist(data_binom, density=True)  ##density=True makes sum=1"
   ]
  }
 ],
 "metadata": {
  "kernelspec": {
   "display_name": "Python 3",
   "language": "python",
   "name": "python3"
  },
  "language_info": {
   "codemirror_mode": {
    "name": "ipython",
    "version": 3
   },
   "file_extension": ".py",
   "mimetype": "text/x-python",
   "name": "python",
   "nbconvert_exporter": "python",
   "pygments_lexer": "ipython3",
   "version": "3.13.1"
  }
 },
 "nbformat": 4,
 "nbformat_minor": 2
}
