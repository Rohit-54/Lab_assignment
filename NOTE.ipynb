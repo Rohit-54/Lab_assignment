{
 "cells": [
  {
   "cell_type": "markdown",
   "metadata": {},
   "source": [
    "1) Captial alphabet ma denote means Matrics [A,B,C....]\n",
    "\n",
    "2) Let A denote a 2x3 matrics then--> [A.T] means transpose of that matrics\n",
    "\n",
    "3) {zip} RESERVED keyword jasley pair up garxa example: (1,2)and (3,4)--> (1,3)and (2,4)\n",
    "\n",
    "4) Eigen vector and eigen value ley chaii herney view change garxa feature reamians same no reduction in any features.\n",
    "\n",
    "\n",
    "\n"
   ]
  }
 ],
 "metadata": {
  "language_info": {
   "name": "python"
  }
 },
 "nbformat": 4,
 "nbformat_minor": 2
}
